{
 "cells": [
  {
   "cell_type": "code",
   "execution_count": null,
   "source": [
    "import gensim.models.keyedvectors as word2vec\n",
    "import numpy as np "
   ],
   "outputs": [],
   "metadata": {}
  },
  {
   "cell_type": "code",
   "execution_count": null,
   "source": [
    "model = word2vec.KeyedVectors.load_word2vec_format(\"GoogleNews-vectors-negative300.bin\", binary=True)\n",
    "model.init_sims()"
   ],
   "outputs": [],
   "metadata": {}
  },
  {
   "cell_type": "code",
   "execution_count": null,
   "source": [
    "wordlist = model.index2word # retrieve words\n",
    "\n",
    "print(f\"Initial size of {len(wordlist)}\")\n",
    "wordlist = filter(lambda s: s.isalpha() and s.isascii() and s.islower() , wordlist) # drop non latin characters\n",
    "# wordlist = [s.lower() for s in wordlist] # lowercase\n",
    "wordlist = list(set(wordlist)) # remove duplicats\n",
    "print(f\"Final size  of {len(wordlist)}\")\n",
    "\n",
    "dump = ';'.join(sorted(wordlist))\n",
    "\n",
    "with open('wordlist.txt', \"w\") as f:\n",
    "    f.write(dump)"
   ],
   "outputs": [],
   "metadata": {}
  },
  {
   "cell_type": "code",
   "execution_count": null,
   "source": [
    "mini, maxi = np.inf, 0\n",
    "actual_words = []\n",
    "for word in wordlist:\n",
    "    try:\n",
    "        weights = model[word]\n",
    "        maxi = max(maxi, np.amax(weights))\n",
    "        mini = min(mini, np.amin(weights))\n",
    "        actual_words.append(word)\n",
    "    except KeyError:\n",
    "        continue\n",
    "\n",
    "maxi, mini"
   ],
   "outputs": [],
   "metadata": {}
  },
  {
   "cell_type": "code",
   "execution_count": null,
   "source": [
    "for word in wordlist:\n",
    "    with open(f'static/{word}.csv', \"w\") as f:\n",
    "        f.write(\";\".join([str(i) for i in list(model[word])]))"
   ],
   "outputs": [],
   "metadata": {}
  }
 ],
 "metadata": {
  "orig_nbformat": 4,
  "language_info": {
   "name": "python",
   "version": "3.7.0",
   "mimetype": "text/x-python",
   "codemirror_mode": {
    "name": "ipython",
    "version": 3
   },
   "pygments_lexer": "ipython3",
   "nbconvert_exporter": "python",
   "file_extension": ".py"
  },
  "kernelspec": {
   "name": "python3",
   "display_name": "Python 3.7.0 64-bit ('wordgame': conda)"
  },
  "interpreter": {
   "hash": "2d16d805811f83cf48e37322730c29abe0ab422ce54fd143e3ed26a88f693fa8"
  }
 },
 "nbformat": 4,
 "nbformat_minor": 2
}